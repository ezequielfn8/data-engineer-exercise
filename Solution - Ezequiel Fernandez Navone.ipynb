{
 "cells": [
  {
   "cell_type": "markdown",
   "metadata": {},
   "source": [
    "# Data Engineer Applicant Exercise\n",
    "\n",
    "To be considered for a Data Engineer position at Company Name, you must successfully complete these steps.\n",
    "\n",
    "What is the exercise about?\n",
    "Brief. You will:\n",
    "\n",
    "- Download data from a public API to a dabase of your choice.\n",
    "[OPTIONAL] Create your own API to read the data from your database.\n",
    "- Create a SQL report.\n",
    "Automate your pipeline in the cloud.\n",
    "\n",
    "Detailed Tasks\n",
    "\n",
    "- 1. First of all, fork this repository to your GitHub account and clone your own repo to your laptop.\n",
    "If you are not familiar with GitHub, please check this how to fork a repo link.\n",
    "- 2. To initialize the workspace, please create a folder named working_folder\n",
    "- 3. Once in your repository, in the working_folder directory and using the programming language/tool of your preference, create a script that collects the consolidated_weather from the 3 different cities/regions of your election from this public API, and save it to a local file.\n",
    "- 4. Again in your repository, in the working_folder directory and using the programming language/tool of your preference, create a second script that uploads previous files to either a MongoDB or a PostgreSQL database.\n",
    "\n",
    "You can use mLab to start a free MongoDB as a Service.\n",
    "\n",
    "If you prefer a PostgreSQL database, you can use ElephantSQL to start a free PostgreSQL server.\n",
    "\n",
    "If you do not want to use any of these cloud providers you can use a SQLite database.\n",
    "\n",
    "- 4. [OPTIONAL] Once you load the data into the DB you choose, create a directory inside the working folder and name it app. Inside the folder build an API to consume the data you just load into the db. Choose the framework, or programming language you want there is no restriction. The API calls should have a persistence in a db.\n",
    "- 5. In the working_folder create a directory call querys and create a text file called query.txt with the query code to get a report of:\n",
    "\n",
    "What is the warmest city/region.\n",
    "\n",
    "What are the two drier city/region.\n",
    "\n",
    "What is the hottest day for each month of 2019 for each city/region\n",
    "- 6. Following the Serverless approach, put this pipeline to automatically run on a daily basis.\n",
    "\n",
    "You can automate this in any way you want:\n",
    "\n",
    "You can create a server instance and run a crontab on it.\n",
    "\n",
    "You can use Azure, Heroku, AWS Free Tier or Google Cloud.\n",
    "\n",
    "You can use the Serverless Framework and just make the yaml config for the deploy.\n",
    "\n",
    "You can create a Dockerfile with the enviroment and just write in a txt how you will set up a cron job.\n",
    "\n",
    "Add another document in the working_folder explaining how you did it and some evidences.\n",
    "- 7. [OPTIONAL] Try yo load the files downloaded from the api using an event processing platform. You can choose the event platform you want Kafka, RabbitMQ, Celery... etc. There is not need to create the full architecture code, but otherwise create a file called streaming_events.txt explaining us how will you build this architecture.\n",
    "\n",
    "If you find any issues during the exercise, please send an email to []"
   ]
  },
  {
   "cell_type": "code",
   "execution_count": 1,
   "metadata": {},
   "outputs": [],
   "source": [
    "import requests\n",
    "import json"
   ]
  },
  {
   "cell_type": "code",
   "execution_count": 2,
   "metadata": {},
   "outputs": [
    {
     "name": "stdout",
     "output_type": "stream",
     "text": [
      "[{'id': 4880846252146688, 'weather_state_name': 'Heavy Cloud', 'weather_state_abbr': 'hc', 'wind_direction_compass': 'NNE', 'created': '2021-03-21T18:20:01.908244Z', 'applicable_date': '2021-03-21', 'min_temp': 6.555, 'max_temp': 12.2, 'the_temp': 11.65, 'wind_speed': 4.796753069532596, 'wind_direction': 11.819052732565831, 'air_pressure': 1029.0, 'humidity': 62, 'visibility': 9.963997753121768, 'predictability': 71}, {'id': 5877677190807552, 'weather_state_name': 'Light Cloud', 'weather_state_abbr': 'lc', 'wind_direction_compass': 'W', 'created': '2021-03-21T18:20:01.695897Z', 'applicable_date': '2021-03-22', 'min_temp': 4.529999999999999, 'max_temp': 14.52, 'the_temp': 13.05, 'wind_speed': 4.280980171473263, 'wind_direction': 264.0279907236704, 'air_pressure': 1026.5, 'humidity': 58, 'visibility': 10.330917442137913, 'predictability': 70}, {'id': 4697130670227456, 'weather_state_name': 'Heavy Cloud', 'weather_state_abbr': 'hc', 'wind_direction_compass': 'SW', 'created': '2021-03-21T18:20:01.839450Z', 'applicable_date': '2021-03-23', 'min_temp': 4.885, 'max_temp': 13.52, 'the_temp': 12.41, 'wind_speed': 6.7020007104138495, 'wind_direction': 227.33322798267437, 'air_pressure': 1024.0, 'humidity': 60, 'visibility': 11.966987791298815, 'predictability': 71}, {'id': 4972688490627072, 'weather_state_name': 'Showers', 'weather_state_abbr': 's', 'wind_direction_compass': 'SW', 'created': '2021-03-21T18:20:02.129066Z', 'applicable_date': '2021-03-24', 'min_temp': 7.3100000000000005, 'max_temp': 13.14, 'the_temp': 12.425, 'wind_speed': 6.191269341066835, 'wind_direction': 219.99898298231741, 'air_pressure': 1019.5, 'humidity': 66, 'visibility': 11.765974210610036, 'predictability': 73}, {'id': 5936037474861056, 'weather_state_name': 'Showers', 'weather_state_abbr': 's', 'wind_direction_compass': 'SW', 'created': '2021-03-21T18:20:01.191814Z', 'applicable_date': '2021-03-25', 'min_temp': 5.6899999999999995, 'max_temp': 12.495000000000001, 'the_temp': 11.785, 'wind_speed': 7.926276728497574, 'wind_direction': 226.66415962311856, 'air_pressure': 1016.5, 'humidity': 56, 'visibility': 12.218643124154935, 'predictability': 73}, {'id': 6192632343560192, 'weather_state_name': 'Heavy Rain', 'weather_state_abbr': 'hr', 'wind_direction_compass': 'WSW', 'created': '2021-03-21T18:20:04.895520Z', 'applicable_date': '2021-03-26', 'min_temp': 6.390000000000001, 'max_temp': 10.379999999999999, 'the_temp': 9.61, 'wind_speed': 10.996513163127336, 'wind_direction': 242.99999999999997, 'air_pressure': 1008.0, 'humidity': 57, 'visibility': 9.276450528911159, 'predictability': 77}]\n"
     ]
    }
   ],
   "source": [
    "#Londres\n",
    "webpage1 = requests.get('https://www.metaweather.com/api/location/44418/')\n",
    "# print(webpage1.text)\n",
    "result1 = json.loads(webpage1.text)\n",
    "londres = result1[\"consolidated_weather\"]\n",
    "print(londres)"
   ]
  },
  {
   "cell_type": "code",
   "execution_count": 3,
   "metadata": {},
   "outputs": [
    {
     "name": "stdout",
     "output_type": "stream",
     "text": [
      "[{'id': 4656792605818880, 'weather_state_name': 'Light Cloud', 'weather_state_abbr': 'lc', 'wind_direction_compass': 'NNW', 'created': '2021-03-21T19:23:43.013136Z', 'applicable_date': '2021-03-21', 'min_temp': 3.005, 'max_temp': 7.665, 'the_temp': 6.9350000000000005, 'wind_speed': 11.84114631303322, 'wind_direction': 337.5, 'air_pressure': 1013.0, 'humidity': 50, 'visibility': 15.016988288395769, 'predictability': 70}, {'id': 5960516708073472, 'weather_state_name': 'Light Cloud', 'weather_state_abbr': 'lc', 'wind_direction_compass': 'WSW', 'created': '2021-03-21T19:23:46.028529Z', 'applicable_date': '2021-03-22', 'min_temp': 1.955, 'max_temp': 8.215, 'the_temp': 7.449999999999999, 'wind_speed': 6.139952874800499, 'wind_direction': 244.3352824511781, 'air_pressure': 1017.5, 'humidity': 62, 'visibility': 12.83783951721944, 'predictability': 70}, {'id': 6736578442428416, 'weather_state_name': 'Heavy Cloud', 'weather_state_abbr': 'hc', 'wind_direction_compass': 'W', 'created': '2021-03-21T19:23:48.944077Z', 'applicable_date': '2021-03-23', 'min_temp': 3.5, 'max_temp': 8.4, 'the_temp': 7.199999999999999, 'wind_speed': 6.401029570826374, 'wind_direction': 265.6856396830232, 'air_pressure': 1020.0, 'humidity': 76, 'visibility': 11.79611071343355, 'predictability': 71}, {'id': 4606963435438080, 'weather_state_name': 'Showers', 'weather_state_abbr': 's', 'wind_direction_compass': 'WSW', 'created': '2021-03-21T19:23:51.914669Z', 'applicable_date': '2021-03-24', 'min_temp': 4.085, 'max_temp': 8.74, 'the_temp': 7.795, 'wind_speed': 8.792672884628436, 'wind_direction': 241.36409331204135, 'air_pressure': 1018.0, 'humidity': 75, 'visibility': 11.432608565974707, 'predictability': 73}, {'id': 5152033171570688, 'weather_state_name': 'Showers', 'weather_state_abbr': 's', 'wind_direction_compass': 'SW', 'created': '2021-03-21T19:23:54.911649Z', 'applicable_date': '2021-03-25', 'min_temp': 4.824999999999999, 'max_temp': 8.254999999999999, 'the_temp': 8.16, 'wind_speed': 5.631884863678782, 'wind_direction': 229.0, 'air_pressure': 1016.0, 'humidity': 77, 'visibility': 11.072523960073173, 'predictability': 73}, {'id': 5997682435817472, 'weather_state_name': 'Heavy Rain', 'weather_state_abbr': 'hr', 'wind_direction_compass': 'S', 'created': '2021-03-21T19:23:58.017041Z', 'applicable_date': '2021-03-26', 'min_temp': 4.93, 'max_temp': 9.705, 'the_temp': 8.82, 'wind_speed': 7.924119740714229, 'wind_direction': 189.5, 'air_pressure': 1011.0, 'humidity': 68, 'visibility': 9.999726596675416, 'predictability': 77}]\n"
     ]
    }
   ],
   "source": [
    "#Copenague\n",
    "webpage2 = requests.get('https://www.metaweather.com/api/location/554890/')\n",
    "# print(webpage2.text)\n",
    "result2 = json.loads(webpage2.text)\n",
    "copenague = result2[\"consolidated_weather\"]\n",
    "print(copenague)"
   ]
  },
  {
   "cell_type": "code",
   "execution_count": 4,
   "metadata": {},
   "outputs": [
    {
     "name": "stdout",
     "output_type": "stream",
     "text": [
      "[{'id': 5703450114392064, 'weather_state_name': 'Light Cloud', 'weather_state_abbr': 'lc', 'wind_direction_compass': 'S', 'created': '2021-03-21T18:46:22.218536Z', 'applicable_date': '2021-03-21', 'min_temp': 16.53, 'max_temp': 23.785, 'the_temp': 22.335, 'wind_speed': 6.955326832625468, 'wind_direction': 169.4260553493622, 'air_pressure': 1021.5, 'humidity': 63, 'visibility': 16.094445935735305, 'predictability': 70}, {'id': 5082912954253312, 'weather_state_name': 'Showers', 'weather_state_abbr': 's', 'wind_direction_compass': 'E', 'created': '2021-03-21T18:46:25.126832Z', 'applicable_date': '2021-03-22', 'min_temp': 17.485, 'max_temp': 23.575, 'the_temp': 22.15, 'wind_speed': 6.131873561738115, 'wind_direction': 87.02375010963162, 'air_pressure': 1020.5, 'humidity': 64, 'visibility': 14.517095164240834, 'predictability': 73}, {'id': 6549997815332864, 'weather_state_name': 'Clear', 'weather_state_abbr': 'c', 'wind_direction_compass': 'E', 'created': '2021-03-21T18:46:28.297214Z', 'applicable_date': '2021-03-23', 'min_temp': 17.95, 'max_temp': 24.18, 'the_temp': 22.994999999999997, 'wind_speed': 4.959626132132347, 'wind_direction': 89.33417736024788, 'air_pressure': 1017.5, 'humidity': 65, 'visibility': 13.03543555635091, 'predictability': 68}, {'id': 6315611786313728, 'weather_state_name': 'Clear', 'weather_state_abbr': 'c', 'wind_direction_compass': 'NE', 'created': '2021-03-21T18:46:31.029101Z', 'applicable_date': '2021-03-24', 'min_temp': 19.895, 'max_temp': 25.915, 'the_temp': 24.095, 'wind_speed': 6.696597379668073, 'wind_direction': 43.94633360182368, 'air_pressure': 1016.0, 'humidity': 68, 'visibility': 14.449676389883082, 'predictability': 68}, {'id': 5582284708118528, 'weather_state_name': 'Heavy Rain', 'weather_state_abbr': 'hr', 'wind_direction_compass': 'ENE', 'created': '2021-03-21T18:46:34.037530Z', 'applicable_date': '2021-03-25', 'min_temp': 20.384999999999998, 'max_temp': 24.83, 'the_temp': 23.16, 'wind_speed': 5.656375935366792, 'wind_direction': 77.20468816978386, 'air_pressure': 1014.0, 'humidity': 75, 'visibility': 8.911394953471724, 'predictability': 77}, {'id': 4777843004276736, 'weather_state_name': 'Light Cloud', 'weather_state_abbr': 'lc', 'wind_direction_compass': 'SSE', 'created': '2021-03-21T18:46:37.220042Z', 'applicable_date': '2021-03-26', 'min_temp': 16.0, 'max_temp': 21.905, 'the_temp': 18.56, 'wind_speed': 8.361198202497414, 'wind_direction': 161.0, 'air_pressure': 1022.0, 'humidity': 54, 'visibility': 9.999726596675416, 'predictability': 70}]\n"
     ]
    }
   ],
   "source": [
    "#Buenos Aires\n",
    "webpage3 = requests.get('https://www.metaweather.com/api/location/468739/')\n",
    "# print(webpage3.text)\n",
    "result3 = json.loads(webpage3.text)\n",
    "buenos_aires = result3[\"consolidated_weather\"]\n",
    "print(buenos_aires)"
   ]
  },
  {
   "cell_type": "code",
   "execution_count": 5,
   "metadata": {},
   "outputs": [
    {
     "data": {
      "text/plain": [
       "['id',\n",
       " 'weather_state_name',\n",
       " 'weather_state_abbr',\n",
       " 'wind_direction_compass',\n",
       " 'created',\n",
       " 'applicable_date',\n",
       " 'min_temp',\n",
       " 'max_temp',\n",
       " 'the_temp',\n",
       " 'wind_speed',\n",
       " 'wind_direction',\n",
       " 'air_pressure',\n",
       " 'humidity',\n",
       " 'visibility',\n",
       " 'predictability']"
      ]
     },
     "execution_count": 5,
     "metadata": {},
     "output_type": "execute_result"
    }
   ],
   "source": [
    "import csv\n",
    "fields = []\n",
    "\n",
    "for i in buenos_aires:\n",
    "    for temp in i.keys():\n",
    "        if temp not in fields:\n",
    "            fields.append(temp)\n",
    "\n",
    "fields"
   ]
  },
  {
   "cell_type": "code",
   "execution_count": 8,
   "metadata": {},
   "outputs": [],
   "source": [
    "with open ('londres.csv', 'w') as part1:\n",
    "    output_writer = csv.DictWriter(part1, fieldnames = fields)\n",
    "    output_writer.writeheader()\n",
    "    for item in londres:\n",
    "        output_writer.writerow(item)"
   ]
  },
  {
   "cell_type": "code",
   "execution_count": 9,
   "metadata": {},
   "outputs": [],
   "source": [
    "with open ('copenague.csv', 'w') as part2:\n",
    "    output_writer = csv.DictWriter(part2, fieldnames = fields)\n",
    "    output_writer.writeheader()\n",
    "    for item in copenague:\n",
    "        output_writer.writerow(item)"
   ]
  },
  {
   "cell_type": "code",
   "execution_count": 10,
   "metadata": {},
   "outputs": [],
   "source": [
    "with open ('buenos_aires.csv', 'w') as part3:\n",
    "    output_writer = csv.DictWriter(part3, fieldnames = fields)\n",
    "    output_writer.writeheader()\n",
    "    for item in buenos_aires:\n",
    "        output_writer.writerow(item)"
   ]
  },
  {
   "cell_type": "code",
   "execution_count": null,
   "metadata": {},
   "outputs": [],
   "source": []
  }
 ],
 "metadata": {
  "kernelspec": {
   "display_name": "Python 3",
   "language": "python",
   "name": "python3"
  },
  "language_info": {
   "codemirror_mode": {
    "name": "ipython",
    "version": 3
   },
   "file_extension": ".py",
   "mimetype": "text/x-python",
   "name": "python",
   "nbconvert_exporter": "python",
   "pygments_lexer": "ipython3",
   "version": "3.8.3"
  }
 },
 "nbformat": 4,
 "nbformat_minor": 4
}
